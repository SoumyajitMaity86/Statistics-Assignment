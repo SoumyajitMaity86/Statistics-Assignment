{
  "cells": [
    {
      "cell_type": "markdown",
      "metadata": {
        "id": "Vqtgul1kDjwm"
      },
      "source": [
        "***Q1:***Generate a list of 100 integers containing values between 90 to 130 and store it in the variable `int_list`.\n",
        "After generating the list, find the following:\n",
        " (i) Write a Python function to calculate the mean of a given list of numbers.\n",
        " Create a function to find the median of a list of numbers.\n",
        " (ii) Develop a program to compute the mode of a list of integers.\n",
        " (iii) Implement a function to calculate the weighted mean of a list of values and their corresponding weights.\n",
        " (iv) Write a Python function to find the geometric mean of a list of positive numbers.\n",
        " (v) Create a program to calculate the harmonic mean of a list of values.\n",
        " (vi) Build a function to determine the midrange of a list of numbers (average of the minimum and maximum).\n",
        " (vii) Implement a Python program to find the trimmed mean of a list, excluding a certain percentage of\n",
        "outliers"
      ]
    },
    {
      "cell_type": "code",
      "execution_count": 2,
      "metadata": {
        "id": "sFtOKZdBDmtm"
      },
      "outputs": [],
      "source": [
        "# Generate a List of 100 Integers between 90 and 130\n",
        "\n",
        "import random\n",
        "\n",
        "int_list = [random.randint(90, 130) for _ in range(100)]\n"
      ]
    },
    {
      "cell_type": "code",
      "execution_count": 3,
      "metadata": {
        "id": "bgDh0OMKD674"
      },
      "outputs": [],
      "source": [
        "#Calculating the Mean\n",
        "\n",
        "def calculate_mean(numbers):\n",
        "    return sum(numbers) / len(numbers)\n",
        "\n",
        "\n",
        "mean = calculate_mean(int_list)"
      ]
    },
    {
      "cell_type": "code",
      "execution_count": 4,
      "metadata": {
        "id": "GCgdXqZIEDjR"
      },
      "outputs": [],
      "source": [
        "#Finding the Median\n",
        "\n",
        "def calculate_median(numbers):\n",
        "    sorted_numbers = sorted(numbers)\n",
        "    n = len(sorted_numbers)\n",
        "    midpoint = n // 2\n",
        "\n",
        "    if n % 2 == 0:\n",
        "        return (sorted_numbers[midpoint - 1] + sorted_numbers[midpoint]) / 2\n",
        "    else:\n",
        "        return sorted_numbers[midpoint]\n",
        "\n",
        "median = calculate_median(int_list)\n"
      ]
    },
    {
      "cell_type": "code",
      "execution_count": 5,
      "metadata": {
        "id": "Z_Y-wjuJEIhg"
      },
      "outputs": [],
      "source": [
        "#Computing the Mode\n",
        "\n",
        "from collections import Counter\n",
        "\n",
        "def calculate_mode(numbers):\n",
        "    count = Counter(numbers)\n",
        "    max_count = max(count.values())\n",
        "    mode = [k for k, v in count.items() if v == max_count]\n",
        "    return mode\n",
        "\n",
        "mode = calculate_mode(int_list)"
      ]
    },
    {
      "cell_type": "code",
      "execution_count": 6,
      "metadata": {
        "id": "mbsu_Nm0EPs2"
      },
      "outputs": [],
      "source": [
        "#Calculating the Weighted Mean\n",
        "\n",
        "def calculate_weighted_mean(values, weights):\n",
        "    weighted_sum = sum(v * w for v, w in zip(values, weights))\n",
        "    total_weight = sum(weights)\n",
        "    return weighted_sum / total_weight\n",
        "\n",
        "weights = [random.uniform(0.5, 1.5) for _ in range(100)]  # Example weights\n",
        "weighted_mean = calculate_weighted_mean(int_list, weights)"
      ]
    },
    {
      "cell_type": "code",
      "execution_count": 7,
      "metadata": {
        "id": "EdZgzeySEUzP"
      },
      "outputs": [],
      "source": [
        "#Finding the Geometric Mean\n",
        "\n",
        "import math\n",
        "\n",
        "def calculate_geometric_mean(numbers):\n",
        "    product = math.prod(numbers)\n",
        "    return product ** (1 / len(numbers))\n",
        "\n",
        "# Make sure all numbers are positive for geometric mean\n",
        "geometric_mean = calculate_geometric_mean(int_list)"
      ]
    },
    {
      "cell_type": "code",
      "execution_count": 8,
      "metadata": {
        "id": "LiBjVP2yE3lf"
      },
      "outputs": [],
      "source": [
        "#Calculating the Harmonic Mean\n",
        "\n",
        "def calculate_harmonic_mean(numbers):\n",
        "    reciprocal_sum = sum(1 / num for num in numbers)\n",
        "    return len(numbers) / reciprocal_sum\n",
        "\n",
        "\n",
        "harmonic_mean = calculate_harmonic_mean(int_list)"
      ]
    },
    {
      "cell_type": "code",
      "execution_count": 9,
      "metadata": {
        "id": "dVMDhziWFKTQ"
      },
      "outputs": [],
      "source": [
        "#Determining the Midrange\n",
        "\n",
        "def calculate_midrange(numbers):\n",
        "    return (min(numbers) + max(numbers)) / 2\n",
        "\n",
        "midrange = calculate_midrange(int_list)"
      ]
    },
    {
      "cell_type": "code",
      "execution_count": 10,
      "metadata": {
        "id": "lqIHhsYdFOcV"
      },
      "outputs": [],
      "source": [
        "#Finding the Trimmed Mean\n",
        "\n",
        "def calculate_trimmed_mean(numbers, trim_percent):\n",
        "    sorted_numbers = sorted(numbers)\n",
        "    n = len(numbers)\n",
        "    trim_count = int(n * trim_percent / 100)\n",
        "    trimmed_numbers = sorted_numbers[trim_count:n - trim_count]\n",
        "    return sum(trimmed_numbers) / len(trimmed_numbers)\n",
        "\n",
        "trim_percent = 10  # Trim 10% from both ends\n",
        "trimmed_mean = calculate_trimmed_mean(int_list, trim_percent)"
      ]
    },
    {
      "cell_type": "code",
      "execution_count": null,
      "metadata": {},
      "outputs": [],
      "source": [
        "print(f\"Mean: {mean}\")\n",
        "print(f\"Median: {median}\")\n",
        "print(f\"Mode: {mode}\")\n",
        "print(f\"Weighted Mean: {weighted_mean}\")\n",
        "print(f\"Geometric Mean: {geometric_mean}\")\n",
        "print(f\"Harmonic Mean: {harmonic_mean}\")\n",
        "print(f\"Midrange: {midrange}\")\n",
        "print(f\"Trimmed Mean: {trimmed_mean}\")"
      ]
    },
    {
      "cell_type": "markdown",
      "metadata": {
        "id": "ajpVpSLGFxOH"
      },
      "source": [
        "***Q2:*** Generate a list of 500 integers containing values between 200 to 300 and store it in the variable `int_list2`.\n",
        "After generating the list, find the following:\n",
        " (i) Compare the given list of visualization for the given data:\n",
        " 1. Frequency & Gaussian distribution\n",
        " 2. Frequency smoothened KDE plot\n",
        " 3. Gaussian distribution & smoothened KDE plot\n",
        " (ii) Write a Python function to calculate the range of a given list of numbers.\n",
        " (iii) Create a program to find the variance and standard deviation of a list of numbers.\n",
        " (iv) Implement a function to compute the interquartile range (IQR) of a list of values.\n",
        " (v) Build a program to calculate the coefficient of variation for a dataset.\n",
        " (vi) Write a Python function to find the mean absolute deviation (MAD) of a list of numbers.\n",
        " (vii) Create a program to calculate the quartile deviation of a list of values.\n",
        " (viii) Implement a function to find the range-based coefficient of dispersion for a dataset"
      ]
    },
    {
      "cell_type": "code",
      "execution_count": null,
      "metadata": {
        "id": "OQS7zCOCGBk8"
      },
      "outputs": [],
      "source": [
        "#Generate a List of 500 Integers between 200 and 300\n",
        "\n",
        "import random\n",
        "\n",
        "# Generate a list of 500 integers between 200 and 300\n",
        "int_list2 = [random.randint(200, 300) for _ in range(500)]"
      ]
    },
    {
      "cell_type": "code",
      "execution_count": null,
      "metadata": {
        "id": "5Y7hg6bXG3Y8"
      },
      "outputs": [],
      "source": [
        "'''Visualizations\n",
        "Frequency & Gaussian distribution\n",
        "Frequency smoothed KDE plot\n",
        "Gaussian distribution & smoothed KDE plot'''\n",
        "\n",
        "import matplotlib.pyplot as plt\n",
        "import seaborn as sns\n",
        "import numpy as np\n",
        "from scipy.stats import norm\n",
        "\n",
        "# Frequency & Gaussian distribution\n",
        "def plot_frequency_and_gaussian(data):\n",
        "    plt.figure(figsize=(10, 6))\n",
        "    sns.histplot(data, bins=20, kde=False, color='blue', label='Frequency', stat='density')\n",
        "    mean = np.mean(data)\n",
        "    std_dev = np.std(data)\n",
        "    x = np.linspace(min(data), max(data), 1000)\n",
        "    plt.plot(x, norm.pdf(x, mean, std_dev), color='red', label='Gaussian Distribution')\n",
        "    plt.title('Frequency & Gaussian Distribution')\n",
        "    plt.legend()\n",
        "    plt.show()\n",
        "\n",
        "# Frequency smoothened KDE plot\n",
        "def plot_frequency_kde(data):\n",
        "    plt.figure(figsize=(10, 6))\n",
        "    sns.histplot(data, bins=20, kde=True, color='blue', label='Frequency', stat='density')\n",
        "    plt.title('Frequency with Smoothed KDE Plot')\n",
        "    plt.legend()\n",
        "    plt.show()\n",
        "\n",
        "# Gaussian distribution & smoothened KDE plot\n",
        "def plot_gaussian_kde(data):\n",
        "    plt.figure(figsize=(10, 6))\n",
        "    mean = np.mean(data)\n",
        "    std_dev = np.std(data)\n",
        "    x = np.linspace(min(data), max(data), 1000)\n",
        "    sns.kdeplot(data, color='blue', label='Smoothed KDE')\n",
        "    plt.plot(x, norm.pdf(x, mean, std_dev), color='red', label='Gaussian Distribution')\n",
        "    plt.title('Gaussian Distribution & Smoothed KDE Plot')\n",
        "    plt.legend()\n",
        "    plt.show()\n",
        "\n",
        "plot_frequency_and_gaussian(int_list2)\n",
        "plot_frequency_kde(int_list2)\n",
        "plot_gaussian_kde(int_list2)"
      ]
    },
    {
      "cell_type": "code",
      "execution_count": null,
      "metadata": {
        "id": "scRGroDPHGI-"
      },
      "outputs": [],
      "source": [
        "#Range Calculation\n",
        "\n",
        "def calculate_range(numbers):\n",
        "    return max(numbers) - min(numbers)\n",
        "\n",
        "range_value = calculate_range(int_list2)"
      ]
    },
    {
      "cell_type": "code",
      "execution_count": null,
      "metadata": {
        "id": "BUyk69rgHM9n"
      },
      "outputs": [],
      "source": [
        "#Variance and Standard Deviation\n",
        "\n",
        "def calculate_variance(numbers):\n",
        "    mean = sum(numbers) / len(numbers)\n",
        "    return sum((x - mean) ** 2 for x in numbers) / len(numbers)\n",
        "\n",
        "def calculate_std_dev(numbers):\n",
        "    return calculate_variance(numbers) ** 0.5\n",
        "\n",
        "variance = calculate_variance(int_list2)\n",
        "std_dev = calculate_std_dev(int_list2)\n"
      ]
    },
    {
      "cell_type": "code",
      "execution_count": null,
      "metadata": {
        "id": "_RUcyJR3HRjG"
      },
      "outputs": [],
      "source": [
        "#Interquartile Range (IQR)\n",
        "\n",
        "def calculate_iqr(numbers):\n",
        "    sorted_numbers = sorted(numbers)\n",
        "    q1 = np.percentile(sorted_numbers, 25)\n",
        "    q3 = np.percentile(sorted_numbers, 75)\n",
        "    return q3 - q1\n",
        "\n",
        "iqr = calculate_iqr(int_list2)"
      ]
    },
    {
      "cell_type": "code",
      "execution_count": null,
      "metadata": {
        "id": "yUeBqA8XHX7E"
      },
      "outputs": [],
      "source": [
        "#Coefficient of Variation\n",
        "\n",
        "def calculate_coefficient_of_variation(numbers):\n",
        "    mean = np.mean(numbers)\n",
        "    std_dev = np.std(numbers)\n",
        "    return std_dev / mean\n",
        "\n",
        "coefficient_of_variation = calculate_coefficient_of_variation(int_list2)"
      ]
    },
    {
      "cell_type": "code",
      "execution_count": null,
      "metadata": {
        "id": "WJpChFM5Hcpl"
      },
      "outputs": [],
      "source": [
        "#Mean Absolute Deviation (MAD)\n",
        "\n",
        "def calculate_mad(numbers):\n",
        "    mean = np.mean(numbers)\n",
        "    return np.mean([abs(x - mean) for x in numbers])\n",
        "\n",
        "mad = calculate_mad(int_list2)"
      ]
    },
    {
      "cell_type": "code",
      "execution_count": null,
      "metadata": {
        "id": "Qloe3OH6HgR2"
      },
      "outputs": [],
      "source": [
        "#Quartile Deviation\n",
        "\n",
        "def calculate_quartile_deviation(numbers):\n",
        "    return calculate_iqr(numbers) / 2\n",
        "\n",
        "\n",
        "quartile_deviation = calculate_quartile_deviation(int_list2)"
      ]
    },
    {
      "cell_type": "code",
      "execution_count": null,
      "metadata": {
        "id": "-zpoXl0oHjyX"
      },
      "outputs": [],
      "source": [
        "#Range-Based Coefficient of Dispersion\n",
        "\n",
        "def calculate_range_coefficient_of_dispersion(numbers):\n",
        "    range_value = max(numbers) - min(numbers)\n",
        "    return range_value / (max(numbers) + min(numbers))\n",
        "\n",
        "\n",
        "range_coefficient_of_dispersion = calculate_range_coefficient_of_dispersion(int_list2)"
      ]
    },
    {
      "cell_type": "code",
      "execution_count": null,
      "metadata": {
        "id": "LpRnHBqDHnVB"
      },
      "outputs": [],
      "source": [
        "print(f\"Range: {range_value}\")\n",
        "print(f\"Variance: {variance}\")\n",
        "print(f\"Standard Deviation: {std_dev}\")\n",
        "print(f\"Interquartile Range (IQR): {iqr}\")\n",
        "print(f\"Coefficient of Variation: {coefficient_of_variation}\")\n",
        "print(f\"Mean Absolute Deviation (MAD): {mad}\")\n",
        "print(f\"Quartile Deviation: {quartile_deviation}\")\n",
        "print(f\"Range-Based Coefficient of Dispersion: {range_coefficient_of_dispersion}\")"
      ]
    },
    {
      "cell_type": "markdown",
      "metadata": {
        "id": "Cz0epO6oH-OG"
      },
      "source": [
        "***Q3:*** Write a Python class representing a discrete random variable with methods to calculate its expected\n",
        "value and variance."
      ]
    },
    {
      "cell_type": "code",
      "execution_count": null,
      "metadata": {
        "id": "JaFDJkh_IE3W"
      },
      "outputs": [],
      "source": [
        "class DiscreteRandomVariable:\n",
        "    def __init__(self, values, probabilities):\n",
        "        #Initialize the discrete random variable.\n",
        "\n",
        "        if len(values) != len(probabilities):\n",
        "            raise ValueError(\"Values and probabilities must have the same length.\")\n",
        "        if not abs(sum(probabilities) - 1.0) < 1e-6:\n",
        "            raise ValueError(\"The sum of probabilities must be 1.\")\n",
        "\n",
        "        self.values = values\n",
        "        self.probabilities = probabilities\n",
        "\n",
        "    def expected_value(self):\n",
        "       #Calculate the expected value (mean) of the random variable.\n",
        "        return sum(value * prob for value, prob in zip(self.values, self.probabilities))\n",
        "\n",
        "    def variance(self):\n",
        "        #Calculate the variance of the random variable.\n",
        "        mean = self.expected_value()\n",
        "        return sum(((value - mean) ** 2) * prob for value, prob in zip(self.values, self.probabilities))\n",
        "\n",
        "values = [1, 2, 3, 4, 5]\n",
        "probabilities = [0.1, 0.2, 0.3, 0.2, 0.2]\n",
        "\n",
        "# Create a discrete random variable\n",
        "random_var = DiscreteRandomVariable(values, probabilities)\n",
        "\n",
        "# Calculate the expected value and variance\n",
        "expected_value = random_var.expected_value()\n",
        "variance = random_var.variance()\n",
        "\n",
        "print(f\"Expected Value: {expected_value}\")\n",
        "print(f\"Variance: {variance}\")\n"
      ]
    },
    {
      "cell_type": "markdown",
      "metadata": {
        "id": "FDRFx953I29c"
      },
      "source": [
        "***Q4:***Implement a program to simulate the rolling of a fair six-sided die and calculate the expected value and\n",
        "variance of the outcomes."
      ]
    },
    {
      "cell_type": "code",
      "execution_count": null,
      "metadata": {
        "id": "4hIHmh4-I6as"
      },
      "outputs": [],
      "source": [
        "import random\n",
        "\n",
        "class FairDie:\n",
        "    def __init__(self, sides=6):\n",
        "        #Initialize a fair die with the given number of sides.\n",
        "\n",
        "        self.sides = sides\n",
        "        self.values = list(range(1, sides + 1))  # Possible outcomes: [1, 2, ..., sides]\n",
        "        self.probabilities = [1 / sides] * sides  # Equal probability for each outcome\n",
        "\n",
        "    def roll(self):\n",
        "        #Simulate rolling the die.\n",
        "\n",
        "        return random.choice(self.values)\n",
        "\n",
        "    def expected_value(self):\n",
        "\n",
        "        #Calculate the expected value of the outcomes of the die.\n",
        "\n",
        "        return sum(value * prob for value, prob in zip(self.values, self.probabilities))\n",
        "\n",
        "    def variance(self):\n",
        "        #Calculate the variance of the outcomes of the die.\n",
        "\n",
        "        mean = self.expected_value()\n",
        "        return sum(((value - mean) ** 2) * prob for value, prob in zip(self.values, self.probabilities))\n",
        "\n",
        "# Create a fair six-sided die\n",
        "die = FairDie()\n",
        "\n",
        "# Calculate the expected value and variance\n",
        "expected_value = die.expected_value()\n",
        "variance = die.variance()\n",
        "\n",
        "print(f\"Expected Value: {expected_value}\")\n",
        "print(f\"Variance: {variance}\")\n"
      ]
    },
    {
      "cell_type": "markdown",
      "metadata": {
        "id": "MqkrCuCnJRZR"
      },
      "source": [
        "***Q5:***Create a Python function to generate random samples from a given probability distribution (e.g.,\n",
        "binomial, Poisson) and calculate their mean and variance."
      ]
    },
    {
      "cell_type": "code",
      "execution_count": null,
      "metadata": {
        "id": "wea2IR7iJWQE"
      },
      "outputs": [],
      "source": [
        "import numpy as np\n",
        "\n",
        "def generate_samples(distribution, params, sample_size):\n",
        "\n",
        "    #Generate random samples from a specified probability distribution and calculate their mean and variance.\n",
        "\n",
        "\n",
        "    if distribution == 'binomial':\n",
        "        n = params.get('n')\n",
        "        p = params.get('p')\n",
        "        if n is None or p is None:\n",
        "            raise ValueError(\"For binomial distribution, 'n' and 'p' parameters are required.\")\n",
        "        samples = np.random.binomial(n, p, sample_size)\n",
        "    elif distribution == 'poisson':\n",
        "        lam = params.get('lam')\n",
        "        if lam is None:\n",
        "            raise ValueError(\"For Poisson distribution, 'lam' parameter is required.\")\n",
        "        samples = np.random.poisson(lam, sample_size)\n",
        "    else:\n",
        "        raise ValueError(\"Unsupported distribution. Use 'binomial' or 'poisson'.\")\n",
        "\n",
        "    mean = np.mean(samples)\n",
        "    variance = np.var(samples)\n",
        "\n",
        "    return samples, mean, variance\n",
        "\n",
        "\n",
        "samples_binomial, mean_binomial, variance_binomial = generate_samples(\n",
        "    'binomial', {'n': 10, 'p': 0.5}, 1000)\n",
        "print(f\"Binomial Distribution - Mean: {mean_binomial}, Variance: {variance_binomial}\")\n",
        "\n",
        "\n",
        "samples_poisson, mean_poisson, variance_poisson = generate_samples(\n",
        "    'poisson', {'lam': 3}, 1000)\n",
        "print(f\"Poisson Distribution - Mean: {mean_poisson}, Variance: {variance_poisson}\")\n"
      ]
    },
    {
      "cell_type": "markdown",
      "metadata": {
        "id": "1YEdhLmCJ0UQ"
      },
      "source": [
        "***Q6:*** Write a Python script to generate random numbers from a Gaussian (normal) distribution and compute\n",
        "the mean, variance, and standard deviation of the samples."
      ]
    },
    {
      "cell_type": "code",
      "execution_count": null,
      "metadata": {
        "id": "YSVablmiJ5y8"
      },
      "outputs": [],
      "source": [
        "import numpy as np\n",
        "\n",
        "def generate_gaussian_samples(mean, std_dev, sample_size):\n",
        "\n",
        "    #Generate random samples from a Gaussian (normal) distribution and calculate their mean, variance, and standard deviation.\n",
        "\n",
        "\n",
        "    # Generate random samples from the Gaussian distribution\n",
        "    samples = np.random.normal(mean, std_dev, sample_size)\n",
        "\n",
        "    # Calculate the mean, variance, and standard deviation of the samples\n",
        "    sample_mean = np.mean(samples)\n",
        "    sample_variance = np.var(samples)\n",
        "    sample_std_dev = np.std(samples)\n",
        "\n",
        "    return samples, sample_mean, sample_variance, sample_std_dev\n",
        "\n",
        "\n",
        "mean = 0  # Mean of the Gaussian distribution\n",
        "std_dev = 1  # Standard deviation of the Gaussian distribution\n",
        "sample_size = 1000  # Number of samples to generate\n",
        "\n",
        "# Generate Gaussian samples and calculate statistics\n",
        "samples, sample_mean, sample_variance, sample_std_dev = generate_gaussian_samples(mean, std_dev, sample_size)\n",
        "\n",
        "print(f\"Sample Mean: {sample_mean}\")\n",
        "print(f\"Sample Variance: {sample_variance}\")\n",
        "print(f\"Sample Standard Deviation: {sample_std_dev}\")\n"
      ]
    },
    {
      "cell_type": "markdown",
      "metadata": {
        "id": "PD4GAarbKJs0"
      },
      "source": [
        "***Q7.***Use seaborn library to load `tips` dataset. Find the following from the dataset for the columns `total_bill`\n",
        "and `tip`:\n",
        " (i) Write a Python function that calculates their skewness.\n",
        " approximately symmetric.\n",
        " (ii) Create a program that determines whether the columns exhibit positive skewness, negative skewness, or is\n",
        "(iii) Write a function that calculates the covariance between two columns.\n",
        " (iv) Implement a Python program that calculates the Pearson correlation coefficient between two columns.\n",
        " (v) Write a script to visualize the correlation between two specific columns in a Pandas DataFrame using\n",
        "scatter plots."
      ]
    },
    {
      "cell_type": "code",
      "execution_count": null,
      "metadata": {
        "id": "dkfVL2cCKO6t"
      },
      "outputs": [],
      "source": [
        "import seaborn as sns\n",
        "import pandas as pd\n",
        "import numpy as np\n",
        "import matplotlib.pyplot as plt\n",
        "from scipy.stats import skew\n",
        "\n",
        "# Load the tips dataset\n",
        "tips = sns.load_dataset('tips')\n",
        "\n",
        "\n"
      ]
    },
    {
      "cell_type": "code",
      "execution_count": null,
      "metadata": {
        "id": "NAFiA_QNK5D6"
      },
      "outputs": [],
      "source": [
        "# (i) Function to calculate skewness of two columns\n",
        "def calculate_skewness(data, column):\n",
        "\n",
        "    #Calculate the skewness of a specified column in the DataFrame.\n",
        "\n",
        "    return skew(data[column])\n",
        "\n",
        "# Calculate skewness for 'total_bill' and 'tip'\n",
        "skew_total_bill = calculate_skewness(tips, 'total_bill')\n",
        "skew_tip = calculate_skewness(tips, 'tip')\n",
        "\n",
        "print(f\"Skewness of 'total_bill': {skew_total_bill}\")\n",
        "print(f\"Skewness of 'tip': {skew_tip}\")\n",
        "\n",
        "# (ii) Determine the type of skewness\n",
        "def skewness_type(skew_value):\n",
        "\n",
        "    #Determine whether a skewness value indicates positive skewness, negative skewness, or is approximately symmetric.\n",
        "\n",
        "\n",
        "    if skew_value > 0:\n",
        "        return 'Positive skewness'\n",
        "    elif skew_value < 0:\n",
        "        return 'Negative skewness'\n",
        "    else:\n",
        "        return 'Approximately symmetric'\n",
        "\n",
        "print(f\"'total_bill' skewness type: {skewness_type(skew_total_bill)}\")\n",
        "print(f\"'tip' skewness type: {skewness_type(skew_tip)}\")\n",
        "\n"
      ]
    },
    {
      "cell_type": "code",
      "execution_count": null,
      "metadata": {
        "id": "NVlFggvxLN5e"
      },
      "outputs": [],
      "source": [
        "# (iii) Function to calculate covariance between two columns\n",
        "def calculate_covariance(data, column1, column2):\n",
        "\n",
        "    #Calculate the covariance between two specified columns in the DataFrame.\n",
        "\n",
        "    return np.cov(data[column1], data[column2])[0, 1]\n",
        "\n",
        "# Calculate covariance between 'total_bill' and 'tip'\n",
        "covariance = calculate_covariance(tips, 'total_bill', 'tip')\n",
        "print(f\"Covariance between 'total_bill' and 'tip': {covariance}\")\n",
        "\n"
      ]
    },
    {
      "cell_type": "code",
      "execution_count": null,
      "metadata": {
        "id": "ArLT8lQrLReK"
      },
      "outputs": [],
      "source": [
        "# (iv) Function to calculate Pearson correlation coefficient between two columns\n",
        "def calculate_pearson_correlation(data, column1, column2):\n",
        "\n",
        "    #Calculate the Pearson correlation coefficient between two specified columns in the DataFrame.\n",
        "\n",
        "\n",
        "    return data[column1].corr(data[column2])\n",
        "\n",
        "# Calculate Pearson correlation coefficient between 'total_bill' and 'tip'\n",
        "pearson_correlation = calculate_pearson_correlation(tips, 'total_bill', 'tip')\n",
        "print(f\"Pearson correlation coefficient between 'total_bill' and 'tip': {pearson_correlation}\")\n",
        "\n"
      ]
    },
    {
      "cell_type": "code",
      "execution_count": null,
      "metadata": {
        "id": "5x-T72xqLUQS"
      },
      "outputs": [],
      "source": [
        "# (v) Visualize the correlation using scatter plot\n",
        "def plot_scatter(data, column1, column2):\n",
        "\n",
        "    #Create a scatter plot to visualize the correlation between two columns in the DataFrame.\n",
        "\n",
        "    plt.figure(figsize=(8, 6))\n",
        "    sns.scatterplot(data=data, x=column1, y=column2)\n",
        "    plt.title(f'Scatter Plot of {column1} vs {column2}')\n",
        "    plt.xlabel(column1)\n",
        "    plt.ylabel(column2)\n",
        "    plt.show()\n",
        "\n",
        "# Plot scatter plot for 'total_bill' and 'tip'\n",
        "plot_scatter(tips, 'total_bill', 'tip')"
      ]
    },
    {
      "cell_type": "markdown",
      "metadata": {
        "id": "1_3HvjMGLe8J"
      },
      "source": [
        "***Q8:*** Write a Python function to calculate the probability density function (PDF) of a continuous random\n",
        "variable for a given normal distribution."
      ]
    },
    {
      "cell_type": "code",
      "execution_count": null,
      "metadata": {
        "id": "yapspVXhLuOC"
      },
      "outputs": [],
      "source": [
        "import math\n",
        "\n",
        "def normal_pdf(x, mean, std_dev):\n",
        "    #Calculate the Probability Density Function (PDF) of a normal distribution at a given point.\n",
        "\n",
        "    # Calculate the PDF using the formula\n",
        "    pdf_value = (1 / (std_dev * math.sqrt(2 * math.pi))) * math.exp(-((x - mean) ** 2) / (2 * std_dev ** 2))\n",
        "    return pdf_value\n",
        "\n",
        "mean = 0  # Mean of the normal distribution\n",
        "std_dev = 1  # Standard deviation of the normal distribution\n",
        "x = 1  # Point at which to calculate the PDF\n",
        "\n",
        "pdf_value = normal_pdf(x, mean, std_dev)\n",
        "print(f\"PDF of normal distribution at x = {x} with mean = {mean} and std_dev = {std_dev}: {pdf_value}\")\n"
      ]
    },
    {
      "cell_type": "markdown",
      "metadata": {
        "id": "D4rE1dAUL-XK"
      },
      "source": [
        "***Q9:***Create a program to calculate the cumulative distribution function (CDF) of exponential distribution."
      ]
    },
    {
      "cell_type": "code",
      "execution_count": null,
      "metadata": {
        "id": "nIHODYDVMEew"
      },
      "outputs": [],
      "source": [
        "import math\n",
        "\n",
        "def exponential_cdf(x, rate):\n",
        "    #Calculate the Cumulative Distribution Function (CDF) of an exponential distribution at a given point.\n",
        "\n",
        "    if x < 0:\n",
        "        return 0  # CDF is 0 for x < 0 in an exponential distribution\n",
        "    else:\n",
        "        return 1 - math.exp(-rate * x)\n",
        "\n",
        "rate = 0.8  # Rate parameter (λ) of the exponential distribution\n",
        "x = 5  # Point at which to calculate the CDF\n",
        "\n",
        "cdf_value = exponential_cdf(x, rate)\n",
        "print(f\"CDF of exponential distribution at x = {x} with rate = {rate}: {cdf_value}\")\n"
      ]
    },
    {
      "cell_type": "markdown",
      "metadata": {
        "id": "CReT8Sk4MYlg"
      },
      "source": [
        "Q10:Write a Python function to calculate the probability mass function (PMF) of Poisson distribution."
      ]
    },
    {
      "cell_type": "code",
      "execution_count": null,
      "metadata": {
        "id": "bVhAnLPWMaS9"
      },
      "outputs": [],
      "source": [
        "import math\n",
        "\n",
        "def poisson_pmf(k, lamb):\n",
        "    #Calculate the Probability Mass Function (PMF) of a Poisson distribution.\n",
        "\n",
        "    if k < 0:\n",
        "        return 0  # PMF is 0 for negative values of k in a Poisson distribution\n",
        "    else:\n",
        "        return (lamb ** k) * math.exp(-lamb) / math.factorial(k)\n",
        "\n",
        "lamb = 3  # Average number of events (λ)\n",
        "k = 2  # Number of events for which we want the probability\n",
        "\n",
        "pmf_value = poisson_pmf(k, lamb)\n",
        "print(f\"PMF of Poisson distribution for k = {k} with λ = {lamb}: {pmf_value}\")\n"
      ]
    },
    {
      "cell_type": "markdown",
      "metadata": {
        "id": "KrZI3_ojMpFO"
      },
      "source": [
        "***Q11.*** A company wants to test if a new website layout leads to a higher conversion rate (percentage of visitors\n",
        "who make a purchase). They collect data from the old and new layouts to compare.\n",
        " To generate the data use the following command:\n",
        " ```python\n",
        " import numpy as np\n",
        " # 50 purchases out of 1000 visitors\n",
        " old_layout = np.array([1] * 50 + [0] * 950)\n",
        " # 70 purchases out of 1000 visitors  \n",
        "new_layout = np.array([1] * 70 + [0] * 930)\n",
        " ```\n",
        " Apply z-test to find which layout is successful."
      ]
    },
    {
      "cell_type": "code",
      "execution_count": null,
      "metadata": {
        "id": "fEo0eDn-MvS4"
      },
      "outputs": [],
      "source": [
        "import numpy as np\n",
        "from scipy import stats\n",
        "\n",
        "# Generate the data\n",
        "old_layout = np.array([1] * 50 + [0] * 950)\n",
        "new_layout = np.array([1] * 70 + [0] * 930)\n",
        "\n",
        "# Calculate the number of successes and total number of visitors\n",
        "old_successes = np.sum(old_layout)\n",
        "old_total = len(old_layout)\n",
        "\n",
        "new_successes = np.sum(new_layout)\n",
        "new_total = len(new_layout)\n",
        "\n",
        "# Calculate the proportions\n",
        "p_old = old_successes / old_total\n",
        "p_new = new_successes / new_total\n",
        "\n",
        "# Calculate the pooled proportion\n",
        "p_pooled = (old_successes + new_successes) / (old_total + new_total)\n",
        "\n",
        "# Calculate the standard error\n",
        "se = np.sqrt(p_pooled * (1 - p_pooled) * (1 / old_total + 1 / new_total))\n",
        "\n",
        "# Calculate the z-score\n",
        "z_score = (p_new - p_old) / se\n",
        "\n",
        "# Calculate the p-value for the two-tailed test\n",
        "p_value = 2 * (1 - stats.norm.cdf(np.abs(z_score)))\n",
        "\n",
        "print(f\"Old layout conversion rate: {p_old:.4f}\")\n",
        "print(f\"New layout conversion rate: {p_new:.4f}\")\n",
        "print(f\"Z-score: {z_score:.4f}\")\n",
        "print(f\"P-value: {p_value:.4f}\")\n",
        "\n",
        "# Determine the result\n",
        "alpha = 0.05  # Significance level\n",
        "if p_value < alpha:\n",
        "    print(\"The new layout significantly improves the conversion rate.\")\n",
        "else:\n",
        "    print(\"There is no significant difference in conversion rates between the old and new layouts.\")\n"
      ]
    },
    {
      "cell_type": "markdown",
      "metadata": {
        "id": "Zpg2k0RRM7fd"
      },
      "source": [
        "***Q12:*** A tutoring service claims that its program improves students' exam scores. A sample of students who\n",
        "participated in the program was taken, and their scores before and after the program were recorded.\n",
        " Use the below code to generate samples of respective arrays of marks:\n",
        " ```python\n",
        " before_program = np.array([75, 80, 85, 70, 90, 78, 92, 88, 82, 87])\n",
        " after_program = np.array([80, 85, 90, 80, 92, 80, 95, 90, 85, 88])\n",
        " ```\n",
        " Use z-test to find if the claims made by tutor are true or false."
      ]
    },
    {
      "cell_type": "code",
      "execution_count": null,
      "metadata": {
        "id": "bLvHh_ACNA1a"
      },
      "outputs": [],
      "source": [
        "import numpy as np\n",
        "from scipy import stats\n",
        "\n",
        "# Generate the data\n",
        "before_program = np.array([75, 80, 85, 70, 90, 78, 92, 88, 82, 87])\n",
        "after_program = np.array([80, 85, 90, 80, 92, 80, 95, 90, 85, 88])\n",
        "\n",
        "# Calculate the differences\n",
        "differences = after_program - before_program\n",
        "\n",
        "# Calculate the mean and standard deviation of the differences\n",
        "mean_diff = np.mean(differences)\n",
        "std_diff = np.std(differences, ddof=0)  # Population standard deviation\n",
        "\n",
        "# Number of pairs\n",
        "n = len(differences)\n",
        "\n",
        "# Calculate the standard error of the mean difference\n",
        "se = std_diff / np.sqrt(n)\n",
        "\n",
        "# Calculate the z-score\n",
        "z_score = mean_diff / se\n",
        "\n",
        "# Calculate the p-value for the two-tailed test\n",
        "p_value = 2 * (1 - stats.norm.cdf(np.abs(z_score)))\n",
        "\n",
        "print(f\"Mean difference: {mean_diff:.2f}\")\n",
        "print(f\"Standard deviation of differences: {std_diff:.2f}\")\n",
        "print(f\"Standard error of the mean difference: {se:.2f}\")\n",
        "print(f\"Z-score: {z_score:.2f}\")\n",
        "print(f\"P-value: {p_value:.4f}\")\n",
        "\n",
        "# Determine the result\n",
        "alpha = 0.05  # Significance level\n",
        "if p_value < alpha:\n",
        "    print(\"The tutoring program has a significant effect on students' exam scores.\")\n",
        "else:\n",
        "    print(\"There is no significant effect of the tutoring program on students' exam scores.\")\n"
      ]
    },
    {
      "cell_type": "markdown",
      "metadata": {
        "id": "WQpK-HxTNZDk"
      },
      "source": [
        "***Q13.*** A pharmaceutical company wants to determine if a new drug is effective in reducing blood pressure. They\n",
        "conduct a study and record blood pressure measurements before and after administering the drug.\n",
        " Use the below code to generate samples of respective arrays of blood pressure:\n",
        " ```python\n",
        " before_drug = np.array([145, 150, 140, 135, 155, 160, 152, 148, 130, 138])\n",
        " after_drug = np.array([130, 140, 132, 128, 145, 148, 138, 136, 125, 130])\n",
        " ```\n",
        " Implement z-test to find if the drug really works or not.\n"
      ]
    },
    {
      "cell_type": "code",
      "execution_count": null,
      "metadata": {
        "id": "_eQ2PCNjNdmS"
      },
      "outputs": [],
      "source": [
        "import numpy as np\n",
        "from scipy import stats\n",
        "\n",
        "# Generate the data\n",
        "before_drug = np.array([145, 150, 140, 135, 155, 160, 152, 148, 130, 138])\n",
        "after_drug = np.array([130, 140, 132, 128, 145, 148, 138, 136, 125, 130])\n",
        "\n",
        "# Calculate the differences\n",
        "differences = after_drug - before_drug\n",
        "\n",
        "# Calculate the mean and standard deviation of the differences\n",
        "mean_diff = np.mean(differences)\n",
        "std_diff = np.std(differences, ddof=0)  # Population standard deviation\n",
        "\n",
        "# Number of pairs\n",
        "n = len(differences)\n",
        "\n",
        "# Calculate the standard error of the mean difference\n",
        "se = std_diff / np.sqrt(n)\n",
        "\n",
        "# Calculate the z-score\n",
        "z_score = mean_diff / se\n",
        "\n",
        "# Calculate the p-value for the two-tailed test\n",
        "p_value = 2 * (1 - stats.norm.cdf(np.abs(z_score)))\n",
        "\n",
        "print(f\"Mean difference: {mean_diff:.2f}\")\n",
        "print(f\"Standard deviation of differences: {std_diff:.2f}\")\n",
        "print(f\"Standard error of the mean difference: {se:.2f}\")\n",
        "print(f\"Z-score: {z_score:.2f}\")\n",
        "print(f\"P-value: {p_value:.4f}\")\n",
        "\n",
        "# Determine the result\n",
        "alpha = 0.05  # Significance level\n",
        "if p_value < alpha:\n",
        "    print(\"The drug has a significant effect in reducing blood pressure.\")\n",
        "else:\n",
        "    print(\"There is no significant effect of the drug on blood pressure.\")\n"
      ]
    },
    {
      "cell_type": "markdown",
      "metadata": {
        "id": "jypRZLq4NqzD"
      },
      "source": [
        "***Q14.***A customer service department claims that their average response time is less than 5 minutes. A sample\n",
        "of recent customer interactions was taken, and the response times were recorded.\n",
        " Implement the below code to generate the array of response time:\n",
        " ```python\n",
        " response_times = np.array([4.3, 3.8, 5.1, 4.9, 4.7, 4.2, 5.2, 4.5, 4.6, 4.4])\n",
        " ```\n",
        " Implement z-test to find the claims made by customer service department are tru or false."
      ]
    },
    {
      "cell_type": "code",
      "execution_count": null,
      "metadata": {
        "id": "ewqDgYwlNwXO"
      },
      "outputs": [],
      "source": [
        "import numpy as np\n",
        "from scipy import stats\n",
        "\n",
        "# Generate the data\n",
        "response_times = np.array([4.3, 3.8, 5.1, 4.9, 4.7, 4.2, 5.2, 4.5, 4.6, 4.4])\n",
        "\n",
        "# Population mean (claimed)\n",
        "claimed_mean = 5.0\n",
        "\n",
        "# Calculate the sample mean and standard deviation\n",
        "sample_mean = np.mean(response_times)\n",
        "sample_std = np.std(response_times, ddof=0)  # Population standard deviation\n",
        "\n",
        "# Number of samples\n",
        "n = len(response_times)\n",
        "\n",
        "# Calculate the standard error of the mean\n",
        "se = sample_std / np.sqrt(n)\n",
        "\n",
        "# Calculate the z-score\n",
        "z_score = (sample_mean - claimed_mean) / se\n",
        "\n",
        "# Calculate the p-value for a one-tailed test (less than claimed mean)\n",
        "p_value = stats.norm.cdf(z_score)\n",
        "\n",
        "print(f\"Sample mean: {sample_mean:.2f}\")\n",
        "print(f\"Sample standard deviation: {sample_std:.2f}\")\n",
        "print(f\"Standard error of the mean: {se:.2f}\")\n",
        "print(f\"Z-score: {z_score:.2f}\")\n",
        "print(f\"P-value: {p_value:.4f}\")\n",
        "\n",
        "# Determine the result\n",
        "alpha = 0.05  # Significance level\n",
        "if p_value < alpha:\n",
        "    print(\"The claim that the average response time is less than 5 minutes is supported.\")\n",
        "else:\n",
        "    print(\"There is not enough evidence to support the claim that the average response time is less than 5 minutes.\")\n"
      ]
    },
    {
      "cell_type": "markdown",
      "metadata": {
        "id": "ZWlArwXoN3if"
      },
      "source": [
        "***Q15.***A company is testing two different website layouts to see which one leads to higher click-through rates.\n",
        "Write a Python function to perform an A/B test analysis, including calculating the t-statistic, degrees of\n",
        "freedom, and p-value.\n",
        " Use the following data:\n",
        " ```python\n",
        " layout_a_clicks = [28, 32, 33, 29, 31, 34, 30, 35, 36, 37]\n",
        " layout_b_clicks = [40, 41, 38, 42, 39, 44, 43, 41, 45, 47]"
      ]
    },
    {
      "cell_type": "code",
      "execution_count": null,
      "metadata": {
        "id": "BbDp_RnAN8hI"
      },
      "outputs": [],
      "source": [
        "import numpy as np\n",
        "from scipy import stats\n",
        "\n",
        "def ab_test_analysis(layout_a, layout_b):\n",
        "    # Convert lists to numpy arrays for calculations\n",
        "    layout_a = np.array(layout_a)\n",
        "    layout_b = np.array(layout_b)\n",
        "\n",
        "    # Calculate the sample means\n",
        "    mean_a = np.mean(layout_a)\n",
        "    mean_b = np.mean(layout_b)\n",
        "\n",
        "    # Calculate the sample standard deviations\n",
        "    std_a = np.std(layout_a, ddof=1)  # Sample standard deviation\n",
        "    std_b = np.std(layout_b, ddof=1)  # Sample standard deviation\n",
        "\n",
        "    # Calculate the sample sizes\n",
        "    n_a = len(layout_a)\n",
        "    n_b = len(layout_b)\n",
        "\n",
        "    # Calculate the standard error of the difference in means\n",
        "    se = np.sqrt((std_a**2 / n_a) + (std_b**2 / n_b))\n",
        "\n",
        "    # Calculate the t-statistic\n",
        "    t_statistic = (mean_a - mean_b) / se\n",
        "\n",
        "    # Calculate the degrees of freedom\n",
        "    # Using Welch's t-test for unequal variances\n",
        "    df = ((std_a**2 / n_a + std_b**2 / n_b)**2) / \\\n",
        "         (((std_a**2 / n_a)**2 / (n_a - 1)) + ((std_b**2 / n_b)**2 / (n_b - 1)))\n",
        "\n",
        "    # Calculate the p-value for a two-tailed test\n",
        "    p_value = 2 * (1 - stats.t.cdf(np.abs(t_statistic), df))\n",
        "\n",
        "    return t_statistic, df, p_value\n",
        "\n",
        "# Data for the two layouts\n",
        "layout_a_clicks = [28, 32, 33, 29, 31, 34, 30, 35, 36, 37]\n",
        "layout_b_clicks = [40, 41, 38, 42, 39, 44, 43, 41, 45, 47]\n",
        "\n",
        "# Perform A/B test analysis\n",
        "t_statistic, df, p_value = ab_test_analysis(layout_a_clicks, layout_b_clicks)\n",
        "\n",
        "print(f\"T-statistic: {t_statistic:.4f}\")\n",
        "print(f\"Degrees of freedom: {df:.2f}\")\n",
        "print(f\"P-value: {p_value:.4f}\")\n",
        "\n",
        "# Determine the result\n",
        "alpha = 0.05  # Significance level\n",
        "if p_value < alpha:\n",
        "    print(\"There is a significant difference in click-through rates between the two layouts.\")\n",
        "else:\n",
        "    print(\"There is no significant difference in click-through rates between the two layouts.\")\n"
      ]
    },
    {
      "cell_type": "markdown",
      "metadata": {
        "id": "kE08NP9IOIEr"
      },
      "source": [
        "***Q16.*** A pharmaceutical company wants to determine if a new drug is more effective than an existing drug in\n",
        "reducing cholesterol levels. Create a program to analyze the clinical trial data and calculate the t\n",
        "Use the following data of cholestrol level:\n",
        " ```python\n",
        " existing_drug_levels = [180, 182, 175, 185, 178, 176, 172, 184, 179, 183]\n",
        " new_drug_levels = [170, 172, 165, 168, 175, 173, 170, 178, 172, 176]\n",
        " ```"
      ]
    },
    {
      "cell_type": "code",
      "execution_count": null,
      "metadata": {
        "id": "NtDNN1yeONpI"
      },
      "outputs": [],
      "source": [
        "import numpy as np\n",
        "from scipy import stats\n",
        "\n",
        "def analyze_drug_effect(existing_drug_levels, new_drug_levels):\n",
        "    # Convert lists to numpy arrays\n",
        "    existing_drug_levels = np.array(existing_drug_levels)\n",
        "    new_drug_levels = np.array(new_drug_levels)\n",
        "\n",
        "    # Calculate the sample means\n",
        "    mean_existing = np.mean(existing_drug_levels)\n",
        "    mean_new = np.mean(new_drug_levels)\n",
        "\n",
        "    # Calculate the sample standard deviations\n",
        "    std_existing = np.std(existing_drug_levels, ddof=1)  # Sample standard deviation\n",
        "    std_new = np.std(new_drug_levels, ddof=1)  # Sample standard deviation\n",
        "\n",
        "    # Calculate the sample sizes\n",
        "    n_existing = len(existing_drug_levels)\n",
        "    n_new = len(new_drug_levels)\n",
        "\n",
        "    # Calculate the standard error of the difference in means\n",
        "    se = np.sqrt((std_existing**2 / n_existing) + (std_new**2 / n_new))\n",
        "\n",
        "    # Calculate the t-statistic\n",
        "    t_statistic = (mean_new - mean_existing) / se\n",
        "\n",
        "    # Calculate the degrees of freedom using Welch's t-test formula\n",
        "    df = ((std_existing**2 / n_existing + std_new**2 / n_new)**2) / \\\n",
        "         (((std_existing**2 / n_existing)**2 / (n_existing - 1)) + ((std_new**2 / n_new)**2 / (n_new - 1)))\n",
        "\n",
        "    # Calculate the p-value for a one-tailed test (new drug has lower levels)\n",
        "    p_value = stats.t.cdf(t_statistic, df)\n",
        "\n",
        "    return t_statistic, df, p_value\n",
        "\n",
        "# Data for the two drugs\n",
        "existing_drug_levels = [180, 182, 175, 185, 178, 176, 172, 184, 179, 183]\n",
        "new_drug_levels = [170, 172, 165, 168, 175, 173, 170, 178, 172, 176]\n",
        "\n",
        "# Perform the analysis\n",
        "t_statistic, df, p_value = analyze_drug_effect(existing_drug_levels, new_drug_levels)\n",
        "\n",
        "print(f\"T-statistic: {t_statistic:.4f}\")\n",
        "print(f\"Degrees of freedom: {df:.2f}\")\n",
        "print(f\"P-value: {p_value:.4f}\")\n",
        "\n",
        "# Determine the result\n",
        "alpha = 0.05  # Significance level\n",
        "if p_value < alpha:\n",
        "    print(\"The new drug is significantly more effective in reducing cholesterol levels than the existing drug.\")\n",
        "else:\n",
        "    print(\"There is no significant difference between the new drug and the existing drug in reducing cholesterol levels.\")\n"
      ]
    },
    {
      "cell_type": "markdown",
      "metadata": {
        "id": "VDtTxcB1OWh_"
      },
      "source": [
        "***Q17.*** A school district introduces an educational intervention program to improve math scores. Write a Python\n",
        "function to analyze pre- and post-intervention test scores, calculating the t-statistic and p-value to\n",
        "determine if the intervention had a significant impact.\n",
        " Use the following data of test score:\n",
        " ```python\n",
        " pre_intervention_scores = [80, 85, 90, 75, 88, 82, 92, 78, 85, 87]\n",
        " post_intervention_scores = [90, 92, 88, 92, 95, 91, 96, 93, 89, 93]\n",
        " ```\n"
      ]
    },
    {
      "cell_type": "code",
      "execution_count": null,
      "metadata": {
        "id": "s2QgCsliOczZ"
      },
      "outputs": [],
      "source": [
        "import numpy as np\n",
        "from scipy import stats\n",
        "\n",
        "def analyze_intervention(pre_scores, post_scores):\n",
        "    # Convert lists to numpy arrays\n",
        "    pre_scores = np.array(pre_scores)\n",
        "    post_scores = np.array(post_scores)\n",
        "\n",
        "    # Calculate the differences between post and pre scores\n",
        "    differences = post_scores - pre_scores\n",
        "\n",
        "    # Calculate the mean and standard deviation of the differences\n",
        "    mean_diff = np.mean(differences)\n",
        "    std_diff = np.std(differences, ddof=1)  # Sample standard deviation\n",
        "\n",
        "    # Number of paired samples\n",
        "    n = len(differences)\n",
        "\n",
        "    # Calculate the standard error of the mean difference\n",
        "    se = std_diff / np.sqrt(n)\n",
        "\n",
        "    # Calculate the t-statistic\n",
        "    t_statistic = mean_diff / se\n",
        "\n",
        "    # Degrees of freedom\n",
        "    df = n - 1\n",
        "\n",
        "    # Calculate the p-value for a two-tailed test\n",
        "    p_value = 2 * (1 - stats.t.cdf(np.abs(t_statistic), df))\n",
        "\n",
        "    return t_statistic, df, p_value\n",
        "\n",
        "# Data for pre- and post-intervention scores\n",
        "pre_intervention_scores = [80, 85, 90, 75, 88, 82, 92, 78, 85, 87]\n",
        "post_intervention_scores = [90, 92, 88, 92, 95, 91, 96, 93, 89, 93]\n",
        "\n",
        "# Perform the analysis\n",
        "t_statistic, df, p_value = analyze_intervention(pre_intervention_scores, post_intervention_scores)\n",
        "\n",
        "print(f\"T-statistic: {t_statistic:.4f}\")\n",
        "print(f\"Degrees of freedom: {df}\")\n",
        "print(f\"P-value: {p_value:.4f}\")\n",
        "\n",
        "# Determine the result\n",
        "alpha = 0.05  # Significance level\n",
        "if p_value < alpha:\n",
        "    print(\"The intervention had a significant impact on improving math scores.\")\n",
        "else:\n",
        "    print(\"There is no significant impact of the intervention on math scores.\")"
      ]
    },
    {
      "cell_type": "markdown",
      "metadata": {
        "id": "bEZcJNEgOpMR"
      },
      "source": [
        "***Q18.*** An HR department wants to investigate if there's a gender-based salary gap within the company. Develop\n",
        "a program to analyze salary data, calculate the t-statistic, and determine if there's a statistically\n",
        "significant difference between the average salaries of male and female employees.\n",
        " Use the below code to generate synthetic data:\n",
        " ```python\n",
        " # Generate synthetic salary data for male and female employees\n",
        " np.random.seed(0)  # For reproducibility\n",
        " male_salaries = np.random.normal(loc=50000, scale=10000, size=20)\n",
        " female_salaries = np.random.normal(loc=55000, scale=9000, size=20)\n",
        " ```"
      ]
    },
    {
      "cell_type": "code",
      "execution_count": null,
      "metadata": {
        "id": "o7Rq8KYZOtlS"
      },
      "outputs": [],
      "source": [
        "import numpy as np\n",
        "from scipy import stats\n",
        "\n",
        "def analyze_salary_gap(male_salaries, female_salaries):\n",
        "    # Convert lists to numpy arrays\n",
        "    male_salaries = np.array(male_salaries)\n",
        "    female_salaries = np.array(female_salaries)\n",
        "\n",
        "    # Calculate the sample means\n",
        "    mean_male = np.mean(male_salaries)\n",
        "    mean_female = np.mean(female_salaries)\n",
        "\n",
        "    # Calculate the sample standard deviations\n",
        "    std_male = np.std(male_salaries, ddof=1)  # Sample standard deviation\n",
        "    std_female = np.std(female_salaries, ddof=1)  # Sample standard deviation\n",
        "\n",
        "    # Calculate the sample sizes\n",
        "    n_male = len(male_salaries)\n",
        "    n_female = len(female_salaries)\n",
        "\n",
        "    # Calculate the standard error of the difference in means\n",
        "    se = np.sqrt((std_male**2 / n_male) + (std_female**2 / n_female))\n",
        "\n",
        "    # Calculate the t-statistic\n",
        "    t_statistic = (mean_female - mean_male) / se\n",
        "\n",
        "    # Calculate the degrees of freedom using Welch's t-test formula\n",
        "    df = ((std_male**2 / n_male + std_female**2 / n_female)**2) / \\\n",
        "         (((std_male**2 / n_male)**2 / (n_male - 1)) + ((std_female**2 / n_female)**2 / (n_female - 1)))\n",
        "\n",
        "    # Calculate the p-value for a two-tailed test\n",
        "    p_value = 2 * (1 - stats.t.cdf(np.abs(t_statistic), df))\n",
        "\n",
        "    return t_statistic, df, p_value\n",
        "\n",
        "# Generate synthetic salary data\n",
        "np.random.seed(0)  # For reproducibility\n",
        "male_salaries = np.random.normal(loc=50000, scale=10000, size=20)\n",
        "female_salaries = np.random.normal(loc=55000, scale=9000, size=20)\n",
        "\n",
        "# Perform the analysis\n",
        "t_statistic, df, p_value = analyze_salary_gap(male_salaries, female_salaries)\n",
        "\n",
        "print(f\"T-statistic: {t_statistic:.4f}\")\n",
        "print(f\"Degrees of freedom: {df:.2f}\")\n",
        "print(f\"P-value: {p_value:.4f}\")\n",
        "\n",
        "# Determine the result\n",
        "alpha = 0.05  # Significance level\n",
        "if p_value < alpha:\n",
        "    print(\"There is a statistically significant gender-based salary gap.\")\n",
        "else:\n",
        "    print(\"There is no statistically significant gender-based salary gap.\")"
      ]
    },
    {
      "cell_type": "markdown",
      "metadata": {
        "id": "7m4enUi4O3kT"
      },
      "source": [
        "***Q19.*** A manufacturer produces two different versions of a product and wants to compare their quality scores.\n",
        "Create a Python function to analyze quality assessment data, calculate the t-statistic, and decide\n",
        "whether there's a significant difference in quality between the two versions.\n",
        " Use the following data:\n",
        " ```python\n",
        " version1_scores = [85, 88, 82, 89, 87, 84, 90, 88, 85, 86, 91, 83, 87, 84, 89, 86, 84, 88, 85, 86, 89, 90, 87, 88, 85]\n",
        " version2_scores = [80, 78, 83, 81, 79, 82, 76, 80, 78, 81, 77, 82, 80, 79, 82, 79, 80, 81, 79, 82, 79, 78, 80, 81, 82]\n",
        " ```"
      ]
    },
    {
      "cell_type": "code",
      "execution_count": null,
      "metadata": {
        "id": "A0jXNg3WO89C"
      },
      "outputs": [],
      "source": [
        "import numpy as np\n",
        "from scipy import stats\n",
        "\n",
        "def analyze_quality_scores(version1_scores, version2_scores):\n",
        "    # Convert lists to numpy arrays\n",
        "    version1_scores = np.array(version1_scores)\n",
        "    version2_scores = np.array(version2_scores)\n",
        "\n",
        "    # Calculate the sample means\n",
        "    mean_v1 = np.mean(version1_scores)\n",
        "    mean_v2 = np.mean(version2_scores)\n",
        "\n",
        "    # Calculate the sample standard deviations\n",
        "    std_v1 = np.std(version1_scores, ddof=1)  # Sample standard deviation\n",
        "    std_v2 = np.std(version2_scores, ddof=1)  # Sample standard deviation\n",
        "\n",
        "    # Calculate the sample sizes\n",
        "    n_v1 = len(version1_scores)\n",
        "    n_v2 = len(version2_scores)\n",
        "\n",
        "    # Calculate the standard error of the difference in means\n",
        "    se = np.sqrt((std_v1**2 / n_v1) + (std_v2**2 / n_v2))\n",
        "\n",
        "    # Calculate the t-statistic\n",
        "    t_statistic = (mean_v1 - mean_v2) / se\n",
        "\n",
        "    # Calculate the degrees of freedom using Welch's t-test formula\n",
        "    df = ((std_v1**2 / n_v1 + std_v2**2 / n_v2)**2) / \\\n",
        "         (((std_v1**2 / n_v1)**2 / (n_v1 - 1)) + ((std_v2**2 / n_v2)**2 / (n_v2 - 1)))\n",
        "\n",
        "    # Calculate the p-value for a two-tailed test\n",
        "    p_value = 2 * (1 - stats.t.cdf(np.abs(t_statistic), df))\n",
        "\n",
        "    return t_statistic, df, p_value\n",
        "\n",
        "# Data for the two versions\n",
        "version1_scores = [85, 88, 82, 89, 87, 84, 90, 88, 85, 86, 91, 83, 87, 84, 89, 86, 84, 88, 85, 86, 89, 90, 87, 88, 85]\n",
        "version2_scores = [80, 78, 83, 81, 79, 82, 76, 80, 78, 81, 77, 82, 80, 79, 82, 79, 80, 81, 79, 82, 79, 78, 80, 81, 82]\n",
        "\n",
        "# Perform the analysis\n",
        "t_statistic, df, p_value = analyze_quality_scores(version1_scores, version2_scores)\n",
        "\n",
        "print(f\"T-statistic: {t_statistic:.4f}\")\n",
        "print(f\"Degrees of freedom: {df:.2f}\")\n",
        "print(f\"P-value: {p_value:.4f}\")\n",
        "\n",
        "# Determine the result\n",
        "alpha = 0.05  # Significance level\n",
        "if p_value < alpha:\n",
        "    print(\"There is a significant difference in quality scores between the two versions.\")\n",
        "else:\n",
        "    print(\"There is no significant difference in quality scores between the two versions.\")\n"
      ]
    },
    {
      "cell_type": "markdown",
      "metadata": {
        "id": "0mOFB8b0PJKz"
      },
      "source": [
        "***Q20.***A restaurant chain collects customer satisfaction scores for two different branches. Write a program to\n",
        "analyze the scores, calculate the t-statistic, and determine if there's a statistically significant difference in\n",
        "customer satisfaction between the branches.\n",
        " Use the below data of scores:\n",
        " ```python\n",
        " branch_a_scores = [4, 5, 3, 4, 5, 4, 5, 3, 4, 4, 5, 4, 4, 3, 4, 5, 5, 4, 3, 4, 5, 4, 3, 5, 4, 4, 5, 3, 4, 5, 4]\n",
        " branch_b_scores = [3, 4, 2, 3, 4, 3, 4, 2, 3, 3, 4, 3, 3, 2, 3, 4, 4, 3, 2, 3, 4, 3, 2, 4, 3, 3, 4, 2, 3, 4, 3"
      ]
    },
    {
      "cell_type": "code",
      "execution_count": null,
      "metadata": {
        "id": "SRYOD4hDPQOH"
      },
      "outputs": [],
      "source": [
        "import numpy as np\n",
        "from scipy import stats\n",
        "\n",
        "def analyze_satisfaction_scores(branch_a_scores, branch_b_scores):\n",
        "    # Convert lists to numpy arrays\n",
        "    branch_a_scores = np.array(branch_a_scores)\n",
        "    branch_b_scores = np.array(branch_b_scores)\n",
        "\n",
        "    # Calculate the sample means\n",
        "    mean_a = np.mean(branch_a_scores)\n",
        "    mean_b = np.mean(branch_b_scores)\n",
        "\n",
        "    # Calculate the sample standard deviations\n",
        "    std_a = np.std(branch_a_scores, ddof=1)  # Sample standard deviation\n",
        "    std_b = np.std(branch_b_scores, ddof=1)  # Sample standard deviation\n",
        "\n",
        "    # Calculate the sample sizes\n",
        "    n_a = len(branch_a_scores)\n",
        "    n_b = len(branch_b_scores)\n",
        "\n",
        "    # Calculate the standard error of the difference in means\n",
        "    se = np.sqrt((std_a**2 / n_a) + (std_b**2 / n_b))\n",
        "\n",
        "    # Calculate the t-statistic\n",
        "    t_statistic = (mean_a - mean_b) / se\n",
        "\n",
        "    # Calculate the degrees of freedom using Welch's t-test formula\n",
        "    df = ((std_a**2 / n_a + std_b**2 / n_b)**2) / \\\n",
        "         (((std_a**2 / n_a)**2 / (n_a - 1)) + ((std_b**2 / n_b)**2 / (n_b - 1)))\n",
        "\n",
        "    # Calculate the p-value for a two-tailed test\n",
        "    p_value = 2 * (1 - stats.t.cdf(np.abs(t_statistic), df))\n",
        "\n",
        "    return t_statistic, df, p_value\n",
        "\n",
        "# Data for the two branches\n",
        "branch_a_scores = [4, 5, 3, 4, 5, 4, 5, 3, 4, 4, 5, 4, 4, 3, 4, 5, 5, 4, 3, 4, 5, 4, 3, 5, 4, 4, 5, 3, 4, 5, 4]\n",
        "branch_b_scores = [3, 4, 2, 3, 4, 3, 4, 2, 3, 3, 4, 3, 3, 2, 3, 4, 4, 3, 2, 3, 4, 3, 2, 4, 3, 3, 4, 2, 3, 4, 3]\n",
        "\n",
        "# Perform the analysis\n",
        "t_statistic, df, p_value = analyze_satisfaction_scores(branch_a_scores, branch_b_scores)\n",
        "\n",
        "print(f\"T-statistic: {t_statistic:.4f}\")\n",
        "print(f\"Degrees of freedom: {df:.2f}\")\n",
        "print(f\"P-value: {p_value:.10f}\")\n",
        "\n",
        "# Determine the result\n",
        "alpha = 0.05  # Significance level\n",
        "if p_value < alpha:\n",
        "    print(\"There is a significant difference in customer satisfaction scores between the two branches.\")\n",
        "else:\n",
        "    print(\"There is no significant difference in customer satisfaction scores between the two branches.\")\n"
      ]
    },
    {
      "cell_type": "markdown",
      "metadata": {
        "id": "y9dyi7v9PozN"
      },
      "source": [
        "***Q21:*** A political analyst wants to determine if there is a significant association between age groups and voter\n",
        "preferences (Candidate A or Candidate B). They collect data from a sample of 500 voters and classify\n",
        "them into different age groups and candidate preferences. Perform a Chi-Square test to determine if\n",
        "there is a significant association between age groups and voter preferences.\n",
        " Use the below code to generate data:\n",
        " ```python\n",
        " np.random.seed(0)\n",
        " age_groups = np.random.choice(['18-30', '31-50', '51+', '51+'], size=30)\n",
        " voter_preferences = np.random.choice(['Candidate A', 'Candidate B'], size=30)"
      ]
    },
    {
      "cell_type": "code",
      "execution_count": null,
      "metadata": {
        "id": "XUAFYl3mPtxc"
      },
      "outputs": [],
      "source": [
        "import numpy as np\n",
        "import pandas as pd\n",
        "from scipy.stats import chi2_contingency\n",
        "\n",
        "# Generate synthetic data\n",
        "np.random.seed(0)\n",
        "age_groups = np.random.choice(['18-30', '31-50', '51+', '51+'], size=500)\n",
        "voter_preferences = np.random.choice(['Candidate A', 'Candidate B'], size=500)\n",
        "\n",
        "# Create a DataFrame to easily compute the contingency table\n",
        "data = pd.DataFrame({'Age Group': age_groups, 'Voter Preference': voter_preferences})\n",
        "\n",
        "# Create the contingency table\n",
        "contingency_table = pd.crosstab(data['Age Group'], data['Voter Preference'])\n",
        "\n",
        "# Perform Chi-Square test\n",
        "chi2_stat, p_value, dof, expected = chi2_contingency(contingency_table)\n",
        "\n",
        "print(\"Contingency Table:\")\n",
        "print(contingency_table)\n",
        "print(\"\\nChi-Square Statistic:\", chi2_stat)\n",
        "print(\"Degrees of Freedom:\", dof)\n",
        "print(\"P-Value:\", p_value)\n",
        "\n",
        "# Interpret the result\n",
        "alpha = 0.05  # Significance level\n",
        "if p_value < alpha:\n",
        "    print(\"There is a significant association between age groups and voter preferences.\")\n",
        "else:\n",
        "    print(\"There is no significant association between age groups and voter preferences.\")\n"
      ]
    },
    {
      "cell_type": "markdown",
      "metadata": {
        "id": "6ka8of-TP3A0"
      },
      "source": [
        "***Q22.*** A company conducted a customer satisfaction survey to determine if there is a significant relationship\n",
        "between product satisfaction levels (Satisfied, Neutral, Dissatisfied) and the region where customers are\n",
        "located (East, West, North, South). The survey data is summarized in a contingency table. Conduct a Chi\n",
        "Square test to determine if there is a significant relationship between product satisfaction levels and\n",
        "customer regions.\n",
        " Sample data:\n",
        " ```python\n",
        "\n",
        " #Sample data: Product satisfaction levels (rows) vs. Customer regions (columns)\n",
        " data = np.array([[50, 30, 40, 20], [30, 40, 30, 50], [20, 30, 40, 30]])\n",
        " ```"
      ]
    },
    {
      "cell_type": "code",
      "execution_count": null,
      "metadata": {
        "id": "vDR4dipDP778"
      },
      "outputs": [],
      "source": [
        "import numpy as np\n",
        "from scipy.stats import chi2_contingency\n",
        "\n",
        "# Sample data: Product satisfaction levels (rows) vs. Customer regions (columns)\n",
        "data = np.array([[50, 30, 40, 20],\n",
        "                 [30, 40, 30, 50],\n",
        "                 [20, 30, 40, 30]])\n",
        "\n",
        "# Perform Chi-Square test\n",
        "chi2_stat, p_value, dof, expected = chi2_contingency(data)\n",
        "\n",
        "print(\"Contingency Table:\")\n",
        "print(data)\n",
        "print(\"\\nChi-Square Statistic:\", chi2_stat)\n",
        "print(\"Degrees of Freedom:\", dof)\n",
        "print(\"P-Value:\", p_value)\n",
        "\n",
        "# Interpret the result\n",
        "alpha = 0.05  # Significance level\n",
        "if p_value < alpha:\n",
        "    print(\"There is a significant relationship between product satisfaction levels and customer regions.\")\n",
        "else:\n",
        "    print(\"There is no significant relationship between product satisfaction levels and customer regions.\")\n"
      ]
    },
    {
      "cell_type": "markdown",
      "metadata": {
        "id": "jmMajKqLQRhK"
      },
      "source": [
        "***Q23.***A company implemented an employee training program to improve job performance (Effective, Neutral,\n",
        "Ineffective). After the training, they collected data from a sample of employees and classified them based\n",
        "on their job performance before and after the training. Perform a Chi-Square test to determine if there is a\n",
        "significant difference between job performance levels before and after the training.\n",
        " Sample data:\n",
        " ```python\n",
        "\n",
        " # Sample data: Job performance levels before (rows) and after (columns) training\n",
        " data = np.array([[50, 30, 20], [30, 40, 30], [20, 30, 40]])\n",
        " ```"
      ]
    },
    {
      "cell_type": "code",
      "execution_count": null,
      "metadata": {
        "id": "ZAkk3RXXQc7K"
      },
      "outputs": [],
      "source": [
        "import numpy as np\n",
        "from scipy.stats import chi2_contingency\n",
        "\n",
        "# Sample data: Job performance levels before (rows) and after (columns) training\n",
        "data = np.array([[50, 30, 20],\n",
        "                 [30, 40, 30],\n",
        "                 [20, 30, 40]])\n",
        "\n",
        "# Perform Chi-Square test\n",
        "chi2_stat, p_value, dof, expected = chi2_contingency(data)\n",
        "\n",
        "print(\"Contingency Table:\")\n",
        "print(data)\n",
        "print(\"\\nChi-Square Statistic:\", chi2_stat)\n",
        "print(\"Degrees of Freedom:\", dof)\n",
        "print(\"P-Value:\", p_value)\n",
        "\n",
        "# Interpret the result\n",
        "alpha = 0.05  # Significance level\n",
        "if p_value < alpha:\n",
        "    print(\"There is a significant difference in job performance levels before and after the training.\")\n",
        "else:\n",
        "    print(\"There is no significant difference in job performance levels before and after the training.\")\n"
      ]
    },
    {
      "cell_type": "markdown",
      "metadata": {
        "id": "syKsOsdlQqiy"
      },
      "source": [
        "***Q24.***. A company produces three different versions of a product: Standard, Premium, and Deluxe. The\n",
        "company wants to determine if there is a significant difference in customer satisfaction scores among the\n",
        "three product versions. They conducted a survey and collected customer satisfaction scores for each\n",
        "version from a random sample of customers. Perform an ANOVA test to determine if there is a significant\n",
        "difference in customer satisfaction scores.\n",
        " Use the following data:\n",
        " ```python\n",
        " # Sample data: Customer satisfaction scores for each product version\n",
        " standard_scores = [80, 85, 90, 78, 88, 82, 92, 78, 85, 87]\n",
        "\n",
        " premium_scores = [90, 92, 88, 92, 95, 91, 96, 93, 89, 93]\n",
        " deluxe_scores = [95, 98, 92, 97, 96, 94, 98, 97, 92, 99]\n",
        "  ```"
      ]
    },
    {
      "cell_type": "code",
      "execution_count": null,
      "metadata": {
        "id": "ETg7YpWiQ2aq"
      },
      "outputs": [],
      "source": [
        "import numpy as np\n",
        "from scipy.stats import f_oneway\n",
        "\n",
        "# Sample data: Customer satisfaction scores for each product version\n",
        "standard_scores = [80, 85, 90, 78, 88, 82, 92, 78, 85, 87]\n",
        "premium_scores = [90, 92, 88, 92, 95, 91, 96, 93, 89, 93]\n",
        "deluxe_scores = [95, 98, 92, 97, 96, 94, 98, 97, 92, 99]\n",
        "\n",
        "# Perform ANOVA test\n",
        "f_stat, p_value = f_oneway(standard_scores, premium_scores, deluxe_scores)\n",
        "\n",
        "print(\"F-Statistic:\", f_stat)\n",
        "print(\"P-Value:\", p_value)\n",
        "\n",
        "# Interpret the result\n",
        "alpha = 0.05  # Significance level\n",
        "if p_value < alpha:\n",
        "    print(\"There is a significant difference in customer satisfaction scores among the three product versions.\")\n",
        "else:\n",
        "    print(\"There is no significant difference in customer satisfaction scores among the three product versions.\")\n"
      ]
    }
  ],
  "metadata": {
    "colab": {
      "provenance": []
    },
    "kernelspec": {
      "display_name": "Python 3",
      "name": "python3"
    },
    "language_info": {
      "codemirror_mode": {
        "name": "ipython",
        "version": 3
      },
      "file_extension": ".py",
      "mimetype": "text/x-python",
      "name": "python",
      "nbconvert_exporter": "python",
      "pygments_lexer": "ipython3",
      "version": "3.11.7"
    }
  },
  "nbformat": 4,
  "nbformat_minor": 0
}
